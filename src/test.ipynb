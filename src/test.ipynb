{
 "cells": [
  {
   "cell_type": "code",
   "execution_count": 1,
   "id": "1ad4941f",
   "metadata": {},
   "outputs": [],
   "source": [
    "import torch\n",
    "from torch.utils.data import Dataset\n",
    "from torchvision.datasets import MNIST\n",
    "from torchvision import transforms\n",
    "import matplotlib.pyplot as plt\n",
    "from itertools import product\n"
   ]
  },
  {
   "cell_type": "code",
   "execution_count": null,
   "id": "776cfe41",
   "metadata": {},
   "outputs": [],
   "source": [
    "dataset = MNIST(\n",
    "    root=\"../datasets\",\n",
    "    train=True,\n",
    "    download=False,\n",
    "    transform=transforms.Compose(\n",
    "        [\n",
    "            transforms.ToTensor(),\n",
    "            transforms.Normalize((0.1307,), (0.3081,)),\n",
    "            transforms.RandomRotation(degrees=100),\n",
    "            # transforms.RandomCrop()\n",
    "        ]\n",
    "    ),\n",
    ")"
   ]
  },
  {
   "cell_type": "code",
   "execution_count": null,
   "id": "24468e48",
   "metadata": {},
   "outputs": [],
   "source": [
    "fig,axs = plt.subplots(5,2)\n",
    "for i,j in product(range(5),range(2)):\n",
    "    axs[i][j].imshow(dataset[i*2+j][0][0])\n"
   ]
  },
  {
   "cell_type": "code",
   "execution_count": null,
   "id": "70a15476",
   "metadata": {},
   "outputs": [],
   "source": [
    "fig,axs = plt.subplots(5,2)\n",
    "for i,j in product(range(5),range(2)):\n",
    "    axs[i][j].imshow(dataset[i*2+j][0][0])\n"
   ]
  },
  {
   "cell_type": "code",
   "execution_count": 3,
   "id": "13e6f837",
   "metadata": {},
   "outputs": [],
   "source": [
    "from models import ResBase18Model\n",
    "model = ResBase18Model()\n",
    "children = list(model.named_children())"
   ]
  },
  {
   "cell_type": "code",
   "execution_count": 5,
   "id": "7f2fc159",
   "metadata": {},
   "outputs": [],
   "source": [
    "modeles = list(model.named_modules())"
   ]
  },
  {
   "cell_type": "code",
   "execution_count": null,
   "id": "f240cf02",
   "metadata": {},
   "outputs": [
    {
     "data": {
      "text/plain": [
       "False"
      ]
     },
     "execution_count": 6,
     "metadata": {},
     "output_type": "execute_result"
    }
   ],
   "source": []
  }
 ],
 "metadata": {
  "kernelspec": {
   "display_name": "pyt",
   "language": "python",
   "name": "python3"
  },
  "language_info": {
   "codemirror_mode": {
    "name": "ipython",
    "version": 3
   },
   "file_extension": ".py",
   "mimetype": "text/x-python",
   "name": "python",
   "nbconvert_exporter": "python",
   "pygments_lexer": "ipython3",
   "version": "3.10.14"
  }
 },
 "nbformat": 4,
 "nbformat_minor": 5
}
